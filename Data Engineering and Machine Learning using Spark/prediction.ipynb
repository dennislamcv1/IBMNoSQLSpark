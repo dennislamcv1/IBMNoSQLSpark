{
 "cells": [
  {
   "cell_type": "code",
   "execution_count": 2,
   "id": "f4c485e8-84cf-4ff5-8b2a-48b4e29975a2",
   "metadata": {},
   "outputs": [
    {
     "name": "stdout",
     "output_type": "stream",
     "text": [
      "Scoring response\n",
      "{'predictions': [{'fields': ['prediction', 'probability(Walk)', 'probability(Getup_bed)', 'probability(Drink_glass)', 'probability(Pour_water)', 'probability(Climb_stairs)', 'probability(Eat_meat)', 'probability(Brush_teeth)', 'probability(Standup_chair)', 'probability(Sitdown_chair)', 'probability(Comb_hair)', 'probability(Descend_stairs)', 'probability(Use_telephone)', 'probability(Liedown_bed)', 'probability(Eat_soup)'], 'values': [[0.0, 0.20656138355763917, 0.10266826208633689, 0.0955890356015865, 0.09358121240696192, 0.09002202960148929, 0.06997229078017307, 0.06679961810252141, 0.05693216389038866, 0.0559857557506557, 0.05277413112543442, 0.03441074041513229, 0.03409993868152227, 0.02561876757111651, 0.014984670429041927]]}]}\n"
     ]
    }
   ],
   "source": [
    "import requests\n",
    "\n",
    "# NOTE: you must manually set API_KEY below using information retrieved from your IBM Cloud account.\n",
    "API_KEY = \"tmHDzx8rvl62l1QZGY0_JZga-4orhxNRrwMQKasswuSh\"\n",
    "token_response = requests.post('https://iam.cloud.ibm.com/identity/token', data={\"apikey\": API_KEY, \"grant_type\": 'urn:ibm:params:oauth:grant-type:apikey'})\n",
    "mltoken = token_response.json()[\"access_token\"]\n",
    "\n",
    "header = {'Content-Type': 'application/json', 'Authorization': 'Bearer ' + mltoken}\n",
    "\n",
    "# NOTE: manually define and pass the array(s) of values to be scored in the next line\n",
    "payload_scoring = {\"input_data\": [{\"fields\": [\"x\", \"y\", \"z\", ], \"values\": [[1,2,3]]}]}\n",
    "\n",
    "response_scoring = requests.post('https://us-south.ml.cloud.ibm.com/ml/v4/deployments/59615551-58d6-4f37-a6c0-23004dfad52f/predictions?version=2021-09-20&version=2021-09-20', json=payload_scoring, headers={'Authorization': 'Bearer ' + mltoken})\n",
    "print(\"Scoring response\")\n",
    "print(response_scoring.json())"
   ]
  },
  {
   "cell_type": "code",
   "execution_count": null,
   "id": "800867dc-e4a4-4774-93bb-0a9a4722a705",
   "metadata": {},
   "outputs": [],
   "source": []
  }
 ],
 "metadata": {
  "kernelspec": {
   "display_name": "Python",
   "language": "python",
   "name": "conda-env-python-py"
  },
  "language_info": {
   "codemirror_mode": {
    "name": "ipython",
    "version": 3
   },
   "file_extension": ".py",
   "mimetype": "text/x-python",
   "name": "python",
   "nbconvert_exporter": "python",
   "pygments_lexer": "ipython3",
   "version": "3.6.13"
  }
 },
 "nbformat": 4,
 "nbformat_minor": 5
}
